{
  "nbformat": 4,
  "nbformat_minor": 0,
  "metadata": {
    "colab": {
      "name": "Q_Learning_with_FrozenLake.ipynb",
      "provenance": []
    },
    "kernelspec": {
      "name": "python3",
      "display_name": "Python 3"
    },
    "language_info": {
      "name": "python"
    },
    "widgets": {
      "application/vnd.jupyter.widget-state+json": {
        "36a022de3acf4d28beb01aecfc6a4458": {
          "model_module": "@jupyter-widgets/controls",
          "model_name": "VBoxModel",
          "model_module_version": "1.5.0",
          "state": {
            "_dom_classes": [],
            "_model_module": "@jupyter-widgets/controls",
            "_model_module_version": "1.5.0",
            "_model_name": "VBoxModel",
            "_view_count": null,
            "_view_module": "@jupyter-widgets/controls",
            "_view_module_version": "1.5.0",
            "_view_name": "VBoxView",
            "box_style": "",
            "children": [
              "IPY_MODEL_e4097a13c4d44cff8104788b85d397db",
              "IPY_MODEL_1d1205f64f1946c9bf978b8dc3ecefdf",
              "IPY_MODEL_036a36c15f7147259ef6a34913fc118d",
              "IPY_MODEL_a0cb9d206f094f2fa3498c904936e7d8"
            ],
            "layout": "IPY_MODEL_6d941918e49749f4a3a1cb36dbebee23"
          }
        },
        "e4097a13c4d44cff8104788b85d397db": {
          "model_module": "@jupyter-widgets/controls",
          "model_name": "HTMLModel",
          "model_module_version": "1.5.0",
          "state": {
            "_dom_classes": [],
            "_model_module": "@jupyter-widgets/controls",
            "_model_module_version": "1.5.0",
            "_model_name": "HTMLModel",
            "_view_count": null,
            "_view_module": "@jupyter-widgets/controls",
            "_view_module_version": "1.5.0",
            "_view_name": "HTMLView",
            "description": "",
            "description_tooltip": null,
            "layout": "IPY_MODEL_bbab9c707b474cfda1240d6b1f4d028d",
            "placeholder": "​",
            "style": "IPY_MODEL_086996f34df4478eb3f5d7754290f65f",
            "value": "<center> <img\nsrc=https://huggingface.co/front/assets/huggingface_logo-noborder.svg\nalt='Hugging Face'> <br> Copy a token from <a\nhref=\"https://huggingface.co/settings/tokens\" target=\"_blank\">your Hugging Face\ntokens page</a> and paste it below. <br> Immediately click login after copying\nyour token or it might be stored in plain text in this notebook file. </center>"
          }
        },
        "1d1205f64f1946c9bf978b8dc3ecefdf": {
          "model_module": "@jupyter-widgets/controls",
          "model_name": "PasswordModel",
          "model_module_version": "1.5.0",
          "state": {
            "_dom_classes": [],
            "_model_module": "@jupyter-widgets/controls",
            "_model_module_version": "1.5.0",
            "_model_name": "PasswordModel",
            "_view_count": null,
            "_view_module": "@jupyter-widgets/controls",
            "_view_module_version": "1.5.0",
            "_view_name": "PasswordView",
            "continuous_update": true,
            "description": "Token:",
            "description_tooltip": null,
            "disabled": false,
            "layout": "IPY_MODEL_52a9225ea2d248fd9a4769a4e5f05829",
            "placeholder": "​",
            "style": "IPY_MODEL_5d40b8f0ed43410898bf6bf068e2d248",
            "value": ""
          }
        },
        "036a36c15f7147259ef6a34913fc118d": {
          "model_module": "@jupyter-widgets/controls",
          "model_name": "ButtonModel",
          "model_module_version": "1.5.0",
          "state": {
            "_dom_classes": [],
            "_model_module": "@jupyter-widgets/controls",
            "_model_module_version": "1.5.0",
            "_model_name": "ButtonModel",
            "_view_count": null,
            "_view_module": "@jupyter-widgets/controls",
            "_view_module_version": "1.5.0",
            "_view_name": "ButtonView",
            "button_style": "",
            "description": "Login",
            "disabled": false,
            "icon": "",
            "layout": "IPY_MODEL_12b65d55cfe84021be54bafa4278a655",
            "style": "IPY_MODEL_b16e364fd2fe411c9ab8fa72fe1b0896",
            "tooltip": ""
          }
        },
        "a0cb9d206f094f2fa3498c904936e7d8": {
          "model_module": "@jupyter-widgets/controls",
          "model_name": "HTMLModel",
          "model_module_version": "1.5.0",
          "state": {
            "_dom_classes": [],
            "_model_module": "@jupyter-widgets/controls",
            "_model_module_version": "1.5.0",
            "_model_name": "HTMLModel",
            "_view_count": null,
            "_view_module": "@jupyter-widgets/controls",
            "_view_module_version": "1.5.0",
            "_view_name": "HTMLView",
            "description": "",
            "description_tooltip": null,
            "layout": "IPY_MODEL_a0d18be2efe7424680138cbd23226c64",
            "placeholder": "​",
            "style": "IPY_MODEL_c4215a849cea46ed9912d0833ba288b0",
            "value": "\n<b>Pro Tip:</b> If you don't already have one, you can create a dedicated\n'notebooks' token with 'write' access, that you can then easily reuse for all\nnotebooks. </center>"
          }
        },
        "6d941918e49749f4a3a1cb36dbebee23": {
          "model_module": "@jupyter-widgets/base",
          "model_name": "LayoutModel",
          "model_module_version": "1.2.0",
          "state": {
            "_model_module": "@jupyter-widgets/base",
            "_model_module_version": "1.2.0",
            "_model_name": "LayoutModel",
            "_view_count": null,
            "_view_module": "@jupyter-widgets/base",
            "_view_module_version": "1.2.0",
            "_view_name": "LayoutView",
            "align_content": null,
            "align_items": "center",
            "align_self": null,
            "border": null,
            "bottom": null,
            "display": "flex",
            "flex": null,
            "flex_flow": "column",
            "grid_area": null,
            "grid_auto_columns": null,
            "grid_auto_flow": null,
            "grid_auto_rows": null,
            "grid_column": null,
            "grid_gap": null,
            "grid_row": null,
            "grid_template_areas": null,
            "grid_template_columns": null,
            "grid_template_rows": null,
            "height": null,
            "justify_content": null,
            "justify_items": null,
            "left": null,
            "margin": null,
            "max_height": null,
            "max_width": null,
            "min_height": null,
            "min_width": null,
            "object_fit": null,
            "object_position": null,
            "order": null,
            "overflow": null,
            "overflow_x": null,
            "overflow_y": null,
            "padding": null,
            "right": null,
            "top": null,
            "visibility": null,
            "width": "50%"
          }
        },
        "bbab9c707b474cfda1240d6b1f4d028d": {
          "model_module": "@jupyter-widgets/base",
          "model_name": "LayoutModel",
          "model_module_version": "1.2.0",
          "state": {
            "_model_module": "@jupyter-widgets/base",
            "_model_module_version": "1.2.0",
            "_model_name": "LayoutModel",
            "_view_count": null,
            "_view_module": "@jupyter-widgets/base",
            "_view_module_version": "1.2.0",
            "_view_name": "LayoutView",
            "align_content": null,
            "align_items": null,
            "align_self": null,
            "border": null,
            "bottom": null,
            "display": null,
            "flex": null,
            "flex_flow": null,
            "grid_area": null,
            "grid_auto_columns": null,
            "grid_auto_flow": null,
            "grid_auto_rows": null,
            "grid_column": null,
            "grid_gap": null,
            "grid_row": null,
            "grid_template_areas": null,
            "grid_template_columns": null,
            "grid_template_rows": null,
            "height": null,
            "justify_content": null,
            "justify_items": null,
            "left": null,
            "margin": null,
            "max_height": null,
            "max_width": null,
            "min_height": null,
            "min_width": null,
            "object_fit": null,
            "object_position": null,
            "order": null,
            "overflow": null,
            "overflow_x": null,
            "overflow_y": null,
            "padding": null,
            "right": null,
            "top": null,
            "visibility": null,
            "width": null
          }
        },
        "086996f34df4478eb3f5d7754290f65f": {
          "model_module": "@jupyter-widgets/controls",
          "model_name": "DescriptionStyleModel",
          "model_module_version": "1.5.0",
          "state": {
            "_model_module": "@jupyter-widgets/controls",
            "_model_module_version": "1.5.0",
            "_model_name": "DescriptionStyleModel",
            "_view_count": null,
            "_view_module": "@jupyter-widgets/base",
            "_view_module_version": "1.2.0",
            "_view_name": "StyleView",
            "description_width": ""
          }
        },
        "52a9225ea2d248fd9a4769a4e5f05829": {
          "model_module": "@jupyter-widgets/base",
          "model_name": "LayoutModel",
          "model_module_version": "1.2.0",
          "state": {
            "_model_module": "@jupyter-widgets/base",
            "_model_module_version": "1.2.0",
            "_model_name": "LayoutModel",
            "_view_count": null,
            "_view_module": "@jupyter-widgets/base",
            "_view_module_version": "1.2.0",
            "_view_name": "LayoutView",
            "align_content": null,
            "align_items": null,
            "align_self": null,
            "border": null,
            "bottom": null,
            "display": null,
            "flex": null,
            "flex_flow": null,
            "grid_area": null,
            "grid_auto_columns": null,
            "grid_auto_flow": null,
            "grid_auto_rows": null,
            "grid_column": null,
            "grid_gap": null,
            "grid_row": null,
            "grid_template_areas": null,
            "grid_template_columns": null,
            "grid_template_rows": null,
            "height": null,
            "justify_content": null,
            "justify_items": null,
            "left": null,
            "margin": null,
            "max_height": null,
            "max_width": null,
            "min_height": null,
            "min_width": null,
            "object_fit": null,
            "object_position": null,
            "order": null,
            "overflow": null,
            "overflow_x": null,
            "overflow_y": null,
            "padding": null,
            "right": null,
            "top": null,
            "visibility": null,
            "width": null
          }
        },
        "5d40b8f0ed43410898bf6bf068e2d248": {
          "model_module": "@jupyter-widgets/controls",
          "model_name": "DescriptionStyleModel",
          "model_module_version": "1.5.0",
          "state": {
            "_model_module": "@jupyter-widgets/controls",
            "_model_module_version": "1.5.0",
            "_model_name": "DescriptionStyleModel",
            "_view_count": null,
            "_view_module": "@jupyter-widgets/base",
            "_view_module_version": "1.2.0",
            "_view_name": "StyleView",
            "description_width": ""
          }
        },
        "12b65d55cfe84021be54bafa4278a655": {
          "model_module": "@jupyter-widgets/base",
          "model_name": "LayoutModel",
          "model_module_version": "1.2.0",
          "state": {
            "_model_module": "@jupyter-widgets/base",
            "_model_module_version": "1.2.0",
            "_model_name": "LayoutModel",
            "_view_count": null,
            "_view_module": "@jupyter-widgets/base",
            "_view_module_version": "1.2.0",
            "_view_name": "LayoutView",
            "align_content": null,
            "align_items": null,
            "align_self": null,
            "border": null,
            "bottom": null,
            "display": null,
            "flex": null,
            "flex_flow": null,
            "grid_area": null,
            "grid_auto_columns": null,
            "grid_auto_flow": null,
            "grid_auto_rows": null,
            "grid_column": null,
            "grid_gap": null,
            "grid_row": null,
            "grid_template_areas": null,
            "grid_template_columns": null,
            "grid_template_rows": null,
            "height": null,
            "justify_content": null,
            "justify_items": null,
            "left": null,
            "margin": null,
            "max_height": null,
            "max_width": null,
            "min_height": null,
            "min_width": null,
            "object_fit": null,
            "object_position": null,
            "order": null,
            "overflow": null,
            "overflow_x": null,
            "overflow_y": null,
            "padding": null,
            "right": null,
            "top": null,
            "visibility": null,
            "width": null
          }
        },
        "b16e364fd2fe411c9ab8fa72fe1b0896": {
          "model_module": "@jupyter-widgets/controls",
          "model_name": "ButtonStyleModel",
          "model_module_version": "1.5.0",
          "state": {
            "_model_module": "@jupyter-widgets/controls",
            "_model_module_version": "1.5.0",
            "_model_name": "ButtonStyleModel",
            "_view_count": null,
            "_view_module": "@jupyter-widgets/base",
            "_view_module_version": "1.2.0",
            "_view_name": "StyleView",
            "button_color": null,
            "font_weight": ""
          }
        },
        "a0d18be2efe7424680138cbd23226c64": {
          "model_module": "@jupyter-widgets/base",
          "model_name": "LayoutModel",
          "model_module_version": "1.2.0",
          "state": {
            "_model_module": "@jupyter-widgets/base",
            "_model_module_version": "1.2.0",
            "_model_name": "LayoutModel",
            "_view_count": null,
            "_view_module": "@jupyter-widgets/base",
            "_view_module_version": "1.2.0",
            "_view_name": "LayoutView",
            "align_content": null,
            "align_items": null,
            "align_self": null,
            "border": null,
            "bottom": null,
            "display": null,
            "flex": null,
            "flex_flow": null,
            "grid_area": null,
            "grid_auto_columns": null,
            "grid_auto_flow": null,
            "grid_auto_rows": null,
            "grid_column": null,
            "grid_gap": null,
            "grid_row": null,
            "grid_template_areas": null,
            "grid_template_columns": null,
            "grid_template_rows": null,
            "height": null,
            "justify_content": null,
            "justify_items": null,
            "left": null,
            "margin": null,
            "max_height": null,
            "max_width": null,
            "min_height": null,
            "min_width": null,
            "object_fit": null,
            "object_position": null,
            "order": null,
            "overflow": null,
            "overflow_x": null,
            "overflow_y": null,
            "padding": null,
            "right": null,
            "top": null,
            "visibility": null,
            "width": null
          }
        },
        "c4215a849cea46ed9912d0833ba288b0": {
          "model_module": "@jupyter-widgets/controls",
          "model_name": "DescriptionStyleModel",
          "model_module_version": "1.5.0",
          "state": {
            "_model_module": "@jupyter-widgets/controls",
            "_model_module_version": "1.5.0",
            "_model_name": "DescriptionStyleModel",
            "_view_count": null,
            "_view_module": "@jupyter-widgets/base",
            "_view_module_version": "1.2.0",
            "_view_name": "StyleView",
            "description_width": ""
          }
        },
        "df254831a00049cc8b8c97d96119b866": {
          "model_module": "@jupyter-widgets/controls",
          "model_name": "HBoxModel",
          "model_module_version": "1.5.0",
          "state": {
            "_dom_classes": [],
            "_model_module": "@jupyter-widgets/controls",
            "_model_module_version": "1.5.0",
            "_model_name": "HBoxModel",
            "_view_count": null,
            "_view_module": "@jupyter-widgets/controls",
            "_view_module_version": "1.5.0",
            "_view_name": "HBoxView",
            "box_style": "",
            "children": [
              "IPY_MODEL_832e8ae752324560a75db039a6c1b13c",
              "IPY_MODEL_eafe8da36f854f6b8c5b35c2a0e8aa29",
              "IPY_MODEL_c2c057d13507499fa6e4655eb54e5162"
            ],
            "layout": "IPY_MODEL_79e20ef95c3a467d8e6a0c94dcd41652"
          }
        },
        "832e8ae752324560a75db039a6c1b13c": {
          "model_module": "@jupyter-widgets/controls",
          "model_name": "HTMLModel",
          "model_module_version": "1.5.0",
          "state": {
            "_dom_classes": [],
            "_model_module": "@jupyter-widgets/controls",
            "_model_module_version": "1.5.0",
            "_model_name": "HTMLModel",
            "_view_count": null,
            "_view_module": "@jupyter-widgets/controls",
            "_view_module_version": "1.5.0",
            "_view_name": "HTMLView",
            "description": "",
            "description_tooltip": null,
            "layout": "IPY_MODEL_d1f45de1c1b54589be8db1cf3b52f72b",
            "placeholder": "​",
            "style": "IPY_MODEL_67802f9cc2634c8585b76b12228137f8",
            "value": "Upload file replay.mp4: 100%"
          }
        },
        "eafe8da36f854f6b8c5b35c2a0e8aa29": {
          "model_module": "@jupyter-widgets/controls",
          "model_name": "FloatProgressModel",
          "model_module_version": "1.5.0",
          "state": {
            "_dom_classes": [],
            "_model_module": "@jupyter-widgets/controls",
            "_model_module_version": "1.5.0",
            "_model_name": "FloatProgressModel",
            "_view_count": null,
            "_view_module": "@jupyter-widgets/controls",
            "_view_module_version": "1.5.0",
            "_view_name": "ProgressView",
            "bar_style": "success",
            "description": "",
            "description_tooltip": null,
            "layout": "IPY_MODEL_aaadc318d49f4a8383e98ae8084cef2e",
            "max": 32448,
            "min": 0,
            "orientation": "horizontal",
            "style": "IPY_MODEL_f1dabff1f2874f318bbc29df290a2e25",
            "value": 32448
          }
        },
        "c2c057d13507499fa6e4655eb54e5162": {
          "model_module": "@jupyter-widgets/controls",
          "model_name": "HTMLModel",
          "model_module_version": "1.5.0",
          "state": {
            "_dom_classes": [],
            "_model_module": "@jupyter-widgets/controls",
            "_model_module_version": "1.5.0",
            "_model_name": "HTMLModel",
            "_view_count": null,
            "_view_module": "@jupyter-widgets/controls",
            "_view_module_version": "1.5.0",
            "_view_name": "HTMLView",
            "description": "",
            "description_tooltip": null,
            "layout": "IPY_MODEL_bac2ae0af3e44fb28128fd2095d4326e",
            "placeholder": "​",
            "style": "IPY_MODEL_ef70521450624f45aa523abc2eae70c5",
            "value": " 31.7k/31.7k [00:02&lt;00:00, 14.2kB/s]"
          }
        },
        "79e20ef95c3a467d8e6a0c94dcd41652": {
          "model_module": "@jupyter-widgets/base",
          "model_name": "LayoutModel",
          "model_module_version": "1.2.0",
          "state": {
            "_model_module": "@jupyter-widgets/base",
            "_model_module_version": "1.2.0",
            "_model_name": "LayoutModel",
            "_view_count": null,
            "_view_module": "@jupyter-widgets/base",
            "_view_module_version": "1.2.0",
            "_view_name": "LayoutView",
            "align_content": null,
            "align_items": null,
            "align_self": null,
            "border": null,
            "bottom": null,
            "display": null,
            "flex": null,
            "flex_flow": null,
            "grid_area": null,
            "grid_auto_columns": null,
            "grid_auto_flow": null,
            "grid_auto_rows": null,
            "grid_column": null,
            "grid_gap": null,
            "grid_row": null,
            "grid_template_areas": null,
            "grid_template_columns": null,
            "grid_template_rows": null,
            "height": null,
            "justify_content": null,
            "justify_items": null,
            "left": null,
            "margin": null,
            "max_height": null,
            "max_width": null,
            "min_height": null,
            "min_width": null,
            "object_fit": null,
            "object_position": null,
            "order": null,
            "overflow": null,
            "overflow_x": null,
            "overflow_y": null,
            "padding": null,
            "right": null,
            "top": null,
            "visibility": null,
            "width": null
          }
        },
        "d1f45de1c1b54589be8db1cf3b52f72b": {
          "model_module": "@jupyter-widgets/base",
          "model_name": "LayoutModel",
          "model_module_version": "1.2.0",
          "state": {
            "_model_module": "@jupyter-widgets/base",
            "_model_module_version": "1.2.0",
            "_model_name": "LayoutModel",
            "_view_count": null,
            "_view_module": "@jupyter-widgets/base",
            "_view_module_version": "1.2.0",
            "_view_name": "LayoutView",
            "align_content": null,
            "align_items": null,
            "align_self": null,
            "border": null,
            "bottom": null,
            "display": null,
            "flex": null,
            "flex_flow": null,
            "grid_area": null,
            "grid_auto_columns": null,
            "grid_auto_flow": null,
            "grid_auto_rows": null,
            "grid_column": null,
            "grid_gap": null,
            "grid_row": null,
            "grid_template_areas": null,
            "grid_template_columns": null,
            "grid_template_rows": null,
            "height": null,
            "justify_content": null,
            "justify_items": null,
            "left": null,
            "margin": null,
            "max_height": null,
            "max_width": null,
            "min_height": null,
            "min_width": null,
            "object_fit": null,
            "object_position": null,
            "order": null,
            "overflow": null,
            "overflow_x": null,
            "overflow_y": null,
            "padding": null,
            "right": null,
            "top": null,
            "visibility": null,
            "width": null
          }
        },
        "67802f9cc2634c8585b76b12228137f8": {
          "model_module": "@jupyter-widgets/controls",
          "model_name": "DescriptionStyleModel",
          "model_module_version": "1.5.0",
          "state": {
            "_model_module": "@jupyter-widgets/controls",
            "_model_module_version": "1.5.0",
            "_model_name": "DescriptionStyleModel",
            "_view_count": null,
            "_view_module": "@jupyter-widgets/base",
            "_view_module_version": "1.2.0",
            "_view_name": "StyleView",
            "description_width": ""
          }
        },
        "aaadc318d49f4a8383e98ae8084cef2e": {
          "model_module": "@jupyter-widgets/base",
          "model_name": "LayoutModel",
          "model_module_version": "1.2.0",
          "state": {
            "_model_module": "@jupyter-widgets/base",
            "_model_module_version": "1.2.0",
            "_model_name": "LayoutModel",
            "_view_count": null,
            "_view_module": "@jupyter-widgets/base",
            "_view_module_version": "1.2.0",
            "_view_name": "LayoutView",
            "align_content": null,
            "align_items": null,
            "align_self": null,
            "border": null,
            "bottom": null,
            "display": null,
            "flex": null,
            "flex_flow": null,
            "grid_area": null,
            "grid_auto_columns": null,
            "grid_auto_flow": null,
            "grid_auto_rows": null,
            "grid_column": null,
            "grid_gap": null,
            "grid_row": null,
            "grid_template_areas": null,
            "grid_template_columns": null,
            "grid_template_rows": null,
            "height": null,
            "justify_content": null,
            "justify_items": null,
            "left": null,
            "margin": null,
            "max_height": null,
            "max_width": null,
            "min_height": null,
            "min_width": null,
            "object_fit": null,
            "object_position": null,
            "order": null,
            "overflow": null,
            "overflow_x": null,
            "overflow_y": null,
            "padding": null,
            "right": null,
            "top": null,
            "visibility": null,
            "width": null
          }
        },
        "f1dabff1f2874f318bbc29df290a2e25": {
          "model_module": "@jupyter-widgets/controls",
          "model_name": "ProgressStyleModel",
          "model_module_version": "1.5.0",
          "state": {
            "_model_module": "@jupyter-widgets/controls",
            "_model_module_version": "1.5.0",
            "_model_name": "ProgressStyleModel",
            "_view_count": null,
            "_view_module": "@jupyter-widgets/base",
            "_view_module_version": "1.2.0",
            "_view_name": "StyleView",
            "bar_color": null,
            "description_width": ""
          }
        },
        "bac2ae0af3e44fb28128fd2095d4326e": {
          "model_module": "@jupyter-widgets/base",
          "model_name": "LayoutModel",
          "model_module_version": "1.2.0",
          "state": {
            "_model_module": "@jupyter-widgets/base",
            "_model_module_version": "1.2.0",
            "_model_name": "LayoutModel",
            "_view_count": null,
            "_view_module": "@jupyter-widgets/base",
            "_view_module_version": "1.2.0",
            "_view_name": "LayoutView",
            "align_content": null,
            "align_items": null,
            "align_self": null,
            "border": null,
            "bottom": null,
            "display": null,
            "flex": null,
            "flex_flow": null,
            "grid_area": null,
            "grid_auto_columns": null,
            "grid_auto_flow": null,
            "grid_auto_rows": null,
            "grid_column": null,
            "grid_gap": null,
            "grid_row": null,
            "grid_template_areas": null,
            "grid_template_columns": null,
            "grid_template_rows": null,
            "height": null,
            "justify_content": null,
            "justify_items": null,
            "left": null,
            "margin": null,
            "max_height": null,
            "max_width": null,
            "min_height": null,
            "min_width": null,
            "object_fit": null,
            "object_position": null,
            "order": null,
            "overflow": null,
            "overflow_x": null,
            "overflow_y": null,
            "padding": null,
            "right": null,
            "top": null,
            "visibility": null,
            "width": null
          }
        },
        "ef70521450624f45aa523abc2eae70c5": {
          "model_module": "@jupyter-widgets/controls",
          "model_name": "DescriptionStyleModel",
          "model_module_version": "1.5.0",
          "state": {
            "_model_module": "@jupyter-widgets/controls",
            "_model_module_version": "1.5.0",
            "_model_name": "DescriptionStyleModel",
            "_view_count": null,
            "_view_module": "@jupyter-widgets/base",
            "_view_module_version": "1.2.0",
            "_view_name": "StyleView",
            "description_width": ""
          }
        }
      }
    }
  },
  "cells": [
    {
      "cell_type": "markdown",
      "source": [
        "#First trial at Q-Learning on the Frozen Lake Environment\n"
      ],
      "metadata": {
        "id": "W6DoyQtOIOox"
      }
    },
    {
      "cell_type": "code",
      "execution_count": 1,
      "metadata": {
        "id": "hPPc2LHU8IOt"
      },
      "outputs": [],
      "source": [
        "%%capture\n",
        "!pip install pyglet==1.5.1 \n",
        "!apt install python-opengl\n",
        "!apt install ffmpeg\n",
        "!apt install xvfb\n",
        "!pip3 install pyvirtualdisplay\n",
        "\n",
        "from pyvirtualdisplay import Display\n",
        "\n",
        "virtual_display = Display(visible=0, size=(1400, 900))\n",
        "virtual_display.start()"
      ]
    },
    {
      "cell_type": "code",
      "source": [
        "%%capture\n",
        "!pip install gym==0.24 \n",
        "!pip install pygame\n",
        "!pip install numpy\n",
        "\n",
        "!pip install huggingface_hub\n",
        "!pip install pickle5\n",
        "!pip install pyyaml==6.0 \n",
        "!pip install imageio imageio_ffmpeg"
      ],
      "metadata": {
        "id": "WxVjm3LGBR2B"
      },
      "execution_count": 2,
      "outputs": []
    },
    {
      "cell_type": "code",
      "source": [
        "import numpy as np\n",
        "import gym\n",
        "import random\n",
        "import imageio\n",
        "import os\n",
        "\n",
        "import pickle5 as pickle"
      ],
      "metadata": {
        "id": "p9I9v69yBR4p"
      },
      "execution_count": 3,
      "outputs": []
    },
    {
      "cell_type": "code",
      "source": [
        "env = gym.make(\"FrozenLake-v1\", map_name=\"4x4\", is_slippery=True)"
      ],
      "metadata": {
        "id": "pWRmym76BR6_"
      },
      "execution_count": 4,
      "outputs": []
    },
    {
      "cell_type": "code",
      "source": [
        "env.reset()\n",
        "print(\"_____OBSERVATION SPACE_____ \\n\")\n",
        "print(\"Observation Space\", env.observation_space)\n",
        "print(\"Sample observation\", env.observation_space.sample()) "
      ],
      "metadata": {
        "colab": {
          "base_uri": "https://localhost:8080/"
        },
        "id": "FLfUo1kEBR9h",
        "outputId": "a7f819e3-e95d-43c4-a4cc-834a7b866506"
      },
      "execution_count": 5,
      "outputs": [
        {
          "output_type": "stream",
          "name": "stdout",
          "text": [
            "_____OBSERVATION SPACE_____ \n",
            "\n",
            "Observation Space Discrete(16)\n",
            "Sample observation 11\n"
          ]
        }
      ]
    },
    {
      "cell_type": "code",
      "source": [
        "print(\"\\n _____ACTION SPACE_____ \\n\")\n",
        "print(\"Action Space Shape\", env.action_space.n)\n",
        "print(\"Action Space Sample\", env.action_space.sample()) "
      ],
      "metadata": {
        "colab": {
          "base_uri": "https://localhost:8080/"
        },
        "id": "7yu9_e6ZBSAL",
        "outputId": "3af3fc97-c20c-4cb5-f896-0deedbc98a96"
      },
      "execution_count": 6,
      "outputs": [
        {
          "output_type": "stream",
          "name": "stdout",
          "text": [
            "\n",
            " _____ACTION SPACE_____ \n",
            "\n",
            "Action Space Shape 4\n",
            "Action Space Sample 1\n"
          ]
        }
      ]
    },
    {
      "cell_type": "code",
      "source": [
        "state_space = env.observation_space.n\n",
        "print(\"There are \", state_space, \" possible states\")\n",
        "\n",
        "action_space = env.action_space.n\n",
        "print(\"There are \", action_space, \" possible actions\")"
      ],
      "metadata": {
        "colab": {
          "base_uri": "https://localhost:8080/"
        },
        "id": "V4t0NEMPBSDi",
        "outputId": "6ef5af20-e0f4-4640-935f-583a34bd5e34"
      },
      "execution_count": 7,
      "outputs": [
        {
          "output_type": "stream",
          "name": "stdout",
          "text": [
            "There are  16  possible states\n",
            "There are  4  possible actions\n"
          ]
        }
      ]
    },
    {
      "cell_type": "code",
      "source": [
        "def initialize_q_table(state_space, action_space):\n",
        "  Qtable = np.zeros((state_space, action_space))\n",
        "  return Qtable"
      ],
      "metadata": {
        "id": "ENzERqR3BtNo"
      },
      "execution_count": 8,
      "outputs": []
    },
    {
      "cell_type": "code",
      "source": [
        "Qtable_frozenlake = initialize_q_table(state_space, action_space)"
      ],
      "metadata": {
        "id": "NKmwv6ZIBtQL"
      },
      "execution_count": 9,
      "outputs": []
    },
    {
      "cell_type": "code",
      "source": [
        "def epsilon_greedy_policy(Qtable, state, epsilon):\n",
        "  \n",
        "  random_int = random.uniform(0,1)\n",
        "  if random_int > epsilon:\n",
        "    action = np.argmax(Qtable[state])\n",
        "  else:\n",
        "    action = env.action_space.sample()\n",
        "  \n",
        "  return action"
      ],
      "metadata": {
        "id": "6ltM97iTBtS3"
      },
      "execution_count": 10,
      "outputs": []
    },
    {
      "cell_type": "code",
      "source": [
        "def greedy_policy(Qtable, state):\n",
        "  \n",
        "  action = np.argmax(Qtable[state])\n",
        "  \n",
        "  return action"
      ],
      "metadata": {
        "id": "6IMSiJ8BBtWL"
      },
      "execution_count": 11,
      "outputs": []
    },
    {
      "cell_type": "code",
      "source": [
        "n_training_episodes = 10000  \n",
        "learning_rate = 0.7         \n",
        "\n",
        "\n",
        "n_eval_episodes = 100        \n",
        "\n",
        "\n",
        "env_id = \"FrozenLake-v1\"     \n",
        "max_steps = 99               \n",
        "gamma = 0.95                 \n",
        "eval_seed = []               \n",
        "\n",
        "\n",
        "epsilon = 1.0                 \n",
        "max_epsilon = 1.0             \n",
        "min_epsilon = 0.05             \n",
        "decay_rate = 0.0005            "
      ],
      "metadata": {
        "id": "YaYP_pNsCbpS"
      },
      "execution_count": 12,
      "outputs": []
    },
    {
      "cell_type": "code",
      "source": [
        "def train(n_training_episodes, min_epsilon, max_epsilon, decay_rate, env, max_steps, Qtable):\n",
        "  for episode in range(n_training_episodes):\n",
        "    \n",
        "    epsilon = min_epsilon + (max_epsilon - min_epsilon)*np.exp(-decay_rate*episode)\n",
        "    state = env.reset()\n",
        "    step = 0\n",
        "    done = False\n",
        "\n",
        "    for step in range(max_steps):\n",
        "      action = epsilon_greedy_policy(Qtable, state, epsilon) \n",
        "      new_state, reward, done, info = env.step(action)\n",
        "      Qtable[state][action] = Qtable[state][action] + learning_rate * (reward + gamma * np.max(Qtable[new_state]) - Qtable[state][action])   \n",
        "      if done:\n",
        "        break\n",
        "      state = new_state\n",
        "  return Qtable"
      ],
      "metadata": {
        "id": "rJOcaUpaDJtQ"
      },
      "execution_count": 13,
      "outputs": []
    },
    {
      "cell_type": "code",
      "source": [
        "Qtable_frozenlake = train(n_training_episodes, min_epsilon, max_epsilon, decay_rate, env, max_steps, Qtable_frozenlake)"
      ],
      "metadata": {
        "id": "baLRFdDjDJ4m"
      },
      "execution_count": 14,
      "outputs": []
    },
    {
      "cell_type": "code",
      "source": [
        "Qtable_frozenlake"
      ],
      "metadata": {
        "colab": {
          "base_uri": "https://localhost:8080/"
        },
        "id": "ymBKiPBeDrGV",
        "outputId": "cf688750-0c64-4b8d-ac85-7b30580d6a9f"
      },
      "execution_count": 15,
      "outputs": [
        {
          "output_type": "execute_result",
          "data": {
            "text/plain": [
              "array([[0.2054428 , 0.18066286, 0.09083494, 0.09544708],\n",
              "       [0.01026733, 0.03405225, 0.03828749, 0.17480514],\n",
              "       [0.02725234, 0.03401946, 0.03285954, 0.03826465],\n",
              "       [0.00476392, 0.01151476, 0.02072448, 0.03553287],\n",
              "       [0.20685733, 0.20099057, 0.06459205, 0.19402923],\n",
              "       [0.        , 0.        , 0.        , 0.        ],\n",
              "       [0.00283237, 0.00289482, 0.00426329, 0.00255693],\n",
              "       [0.        , 0.        , 0.        , 0.        ],\n",
              "       [0.06973753, 0.17168295, 0.11053723, 0.24111151],\n",
              "       [0.02176616, 0.60530222, 0.07435009, 0.04316953],\n",
              "       [0.66724786, 0.02494016, 0.01237747, 0.01727673],\n",
              "       [0.        , 0.        , 0.        , 0.        ],\n",
              "       [0.        , 0.        , 0.        , 0.        ],\n",
              "       [0.00310105, 0.18592518, 0.90526201, 0.01750653],\n",
              "       [0.48357099, 0.99345543, 0.53629958, 0.78851211],\n",
              "       [0.        , 0.        , 0.        , 0.        ]])"
            ]
          },
          "metadata": {},
          "execution_count": 15
        }
      ]
    },
    {
      "cell_type": "code",
      "source": [
        "def evaluate_agent(env, max_steps, n_eval_episodes, Q, seed):\n",
        "  \n",
        "  episode_rewards = []\n",
        "  for episode in range(n_eval_episodes):\n",
        "    if seed:\n",
        "      state = env.reset(seed=seed[episode])\n",
        "    else:\n",
        "      state = env.reset()\n",
        "    step = 0\n",
        "    done = False\n",
        "    total_rewards_ep = 0\n",
        "    \n",
        "    for step in range(max_steps):\n",
        "      action = np.argmax(Q[state][:])\n",
        "      new_state, reward, done, info = env.step(action)\n",
        "      total_rewards_ep += reward\n",
        "        \n",
        "      if done:\n",
        "        break\n",
        "      state = new_state\n",
        "    episode_rewards.append(total_rewards_ep)\n",
        "  mean_reward = np.mean(episode_rewards)\n",
        "  std_reward = np.std(episode_rewards)\n",
        "\n",
        "  return mean_reward, std_reward"
      ],
      "metadata": {
        "id": "dYQGdKEgDrTS"
      },
      "execution_count": 16,
      "outputs": []
    },
    {
      "cell_type": "code",
      "source": [
        "mean_reward, std_reward = evaluate_agent(env, max_steps, n_eval_episodes, Qtable_frozenlake, eval_seed)\n",
        "print(f\"Mean_reward={mean_reward:.2f} +/- {std_reward:.2f}\")"
      ],
      "metadata": {
        "colab": {
          "base_uri": "https://localhost:8080/"
        },
        "id": "_2yRKC5cD4r-",
        "outputId": "b03fd604-b569-4dda-f25a-b5b5aa68aa37"
      },
      "execution_count": 17,
      "outputs": [
        {
          "output_type": "stream",
          "name": "stdout",
          "text": [
            "Mean_reward=0.74 +/- 0.44\n"
          ]
        }
      ]
    },
    {
      "cell_type": "code",
      "source": [
        "%%capture\n",
        "from huggingface_hub import HfApi, HfFolder, Repository\n",
        "from huggingface_hub.repocard import metadata_eval_result, metadata_save\n",
        "\n",
        "from pathlib import Path\n",
        "import datetime\n",
        "import json"
      ],
      "metadata": {
        "id": "adHZv5lcGfwQ"
      },
      "execution_count": 48,
      "outputs": []
    },
    {
      "cell_type": "code",
      "source": [
        "def record_video(env, Qtable, out_directory, fps=1):\n",
        "  images = []  \n",
        "  done = False\n",
        "  state = env.reset(seed=random.randint(0,500))\n",
        "  img = env.render(mode='rgb_array')\n",
        "  images.append(img)\n",
        "  while not done:\n",
        "    action = np.argmax(Qtable[state][:])\n",
        "    state, reward, done, info = env.step(action) \n",
        "    img = env.render(mode='rgb_array')\n",
        "    images.append(img)\n",
        "  imageio.mimsave(out_directory, [np.array(img) for i, img in enumerate(images)], fps=fps)"
      ],
      "metadata": {
        "id": "AhV9DubmGf5s"
      },
      "execution_count": 49,
      "outputs": []
    },
    {
      "cell_type": "code",
      "source": [
        "def push_to_hub(repo_id, \n",
        "                model,\n",
        "                env,\n",
        "                video_fps=1,\n",
        "                local_repo_path=\"hub\",\n",
        "                commit_message=\"Push Q-Learning agent to Hub\",\n",
        "                token= None\n",
        "                ):\n",
        "  _, repo_name = repo_id.split(\"/\")\n",
        "\n",
        "  eval_env = env\n",
        "  api = HfApi()\n",
        "  \n",
        "  repo_url = api.create_repo(\n",
        "        repo_id=repo_id,\n",
        "        token=token,\n",
        "        private=False,\n",
        "        exist_ok=True,)\n",
        "  \n",
        " \n",
        "  repo_local_path = Path(local_repo_path) / repo_name\n",
        "  repo = Repository(repo_local_path, clone_from=repo_url, use_auth_token=True)\n",
        "  repo.git_pull()\n",
        "  \n",
        "  repo.lfs_track([\"*.mp4\"])\n",
        "\n",
        "  \n",
        "  if env.spec.kwargs.get(\"map_name\"):\n",
        "    model[\"map_name\"] = env.spec.kwargs.get(\"map_name\")\n",
        "    if env.spec.kwargs.get(\"is_slippery\", \"\") == False:\n",
        "      model[\"slippery\"] = False\n",
        "\n",
        "  print(model)\n",
        "  \n",
        "    \n",
        " \n",
        "  with open(Path(repo_local_path)/'q-learning.pkl', 'wb') as f:\n",
        "    pickle.dump(model, f)\n",
        "  \n",
        "  \n",
        "  mean_reward, std_reward = evaluate_agent(eval_env, model[\"max_steps\"], model[\"n_eval_episodes\"], model[\"qtable\"], model[\"eval_seed\"])\n",
        "\n",
        "  \n",
        "  eval_datetime = datetime.datetime.now()\n",
        "  eval_form_datetime = eval_datetime.isoformat()\n",
        "\n",
        "  evaluate_data = {\n",
        "        \"env_id\": model[\"env_id\"], \n",
        "        \"mean_reward\": mean_reward,\n",
        "        \"n_eval_episodes\": model[\"n_eval_episodes\"],\n",
        "        \"eval_datetime\": eval_form_datetime,\n",
        "  }\n",
        "  \n",
        "  with open(Path(repo_local_path) / \"results.json\", \"w\") as outfile:\n",
        "      json.dump(evaluate_data, outfile)\n",
        "\n",
        " \n",
        "  env_name = model[\"env_id\"]\n",
        "  if env.spec.kwargs.get(\"map_name\"):\n",
        "    env_name += \"-\" + env.spec.kwargs.get(\"map_name\")\n",
        "\n",
        "  if env.spec.kwargs.get(\"is_slippery\", \"\") == False:\n",
        "    env_name += \"-\" + \"no_slippery\"\n",
        "\n",
        "  metadata = {}\n",
        "  metadata[\"tags\"] = [\n",
        "        env_name,\n",
        "        \"q-learning\",\n",
        "        \"reinforcement-learning\",\n",
        "        \"custom-implementation\"\n",
        "    ]\n",
        "\n",
        " \n",
        "  eval = metadata_eval_result(\n",
        "      model_pretty_name=repo_name,\n",
        "      task_pretty_name=\"reinforcement-learning\",\n",
        "      task_id=\"reinforcement-learning\",\n",
        "      metrics_pretty_name=\"mean_reward\",\n",
        "      metrics_id=\"mean_reward\",\n",
        "      metrics_value=f\"{mean_reward:.2f} +/- {std_reward:.2f}\",\n",
        "      dataset_pretty_name=env_name,\n",
        "      dataset_id=env_name,\n",
        "    )\n",
        "\n",
        " \n",
        "  metadata = {**metadata, **eval}\n",
        "\n",
        "  model_card = f\"\"\"\n",
        "  # **Q-Learning** Agent playing **{env_id}**\n",
        "  This is a trained model of a **Q-Learning** agent playing **{env_id}** .\n",
        "  \"\"\"\n",
        "\n",
        "  model_card += \"\"\"\n",
        "  ## Usage\n",
        "  ```python\n",
        "  \"\"\"\n",
        "\n",
        "  model_card += f\"\"\"model = load_from_hub(repo_id=\"{repo_id}\", filename=\"q-learning.pkl\")\n",
        "\n",
        " \n",
        "  env = gym.make(model[\"env_id\"])\n",
        "\n",
        "  evaluate_agent(env, model[\"max_steps\"], model[\"n_eval_episodes\"], model[\"qtable\"], model[\"eval_seed\"])\n",
        "  \"\"\"\n",
        "\n",
        "  model_card +=\"\"\"\n",
        "  ```\n",
        "  \"\"\"\n",
        "\n",
        "  readme_path = repo_local_path / \"README.md\"\n",
        "  readme = \"\"\n",
        "  if readme_path.exists():\n",
        "      with readme_path.open(\"r\", encoding=\"utf8\") as f:\n",
        "        readme = f.read()\n",
        "  else:\n",
        "    readme = model_card\n",
        "\n",
        "  with readme_path.open(\"w\", encoding=\"utf-8\") as f:\n",
        "    f.write(readme)\n",
        "  metadata_save(readme_path, metadata)\n",
        "  video_path =  repo_local_path / \"replay.mp4\"\n",
        "  record_video(env, model[\"qtable\"], video_path, video_fps)\n",
        "  print(f\"Pushing repo {repo_name} to the Hugging Face Hub\")\n",
        "  repo.push_to_hub(commit_message=commit_message)\n",
        "  print(f\"The is pushed to the hub. It can viewed here: {repo_url}\")"
      ],
      "metadata": {
        "id": "OdMp9SaYGf8a"
      },
      "execution_count": 50,
      "outputs": []
    },
    {
      "cell_type": "code",
      "source": [
        "from huggingface_hub import notebook_login\n",
        "notebook_login()"
      ],
      "metadata": {
        "colab": {
          "base_uri": "https://localhost:8080/",
          "height": 326,
          "referenced_widgets": [
            "36a022de3acf4d28beb01aecfc6a4458",
            "e4097a13c4d44cff8104788b85d397db",
            "1d1205f64f1946c9bf978b8dc3ecefdf",
            "036a36c15f7147259ef6a34913fc118d",
            "a0cb9d206f094f2fa3498c904936e7d8",
            "6d941918e49749f4a3a1cb36dbebee23",
            "bbab9c707b474cfda1240d6b1f4d028d",
            "086996f34df4478eb3f5d7754290f65f",
            "52a9225ea2d248fd9a4769a4e5f05829",
            "5d40b8f0ed43410898bf6bf068e2d248",
            "12b65d55cfe84021be54bafa4278a655",
            "b16e364fd2fe411c9ab8fa72fe1b0896",
            "a0d18be2efe7424680138cbd23226c64",
            "c4215a849cea46ed9912d0833ba288b0"
          ]
        },
        "id": "o-KZDsMXGf_W",
        "outputId": "4979662f-7210-4e21-848c-cd02826ca87f"
      },
      "execution_count": 53,
      "outputs": [
        {
          "output_type": "stream",
          "name": "stdout",
          "text": [
            "Login successful\n",
            "Your token has been saved to /root/.huggingface/token\n",
            "\u001b[1m\u001b[31mAuthenticated through git-credential store but this isn't the helper defined on your machine.\n",
            "You might have to re-authenticate when pushing to the Hugging Face Hub. Run the following command in your terminal in case you want to set this credential helper as the default\n",
            "\n",
            "git config --global credential.helper store\u001b[0m\n"
          ]
        }
      ]
    },
    {
      "cell_type": "code",
      "source": [
        "model = {\n",
        "    \"env_id\": env_id,\n",
        "    \"max_steps\": max_steps,\n",
        "    \"n_training_episodes\": n_training_episodes,\n",
        "    \"n_eval_episodes\": n_eval_episodes,\n",
        "    \"eval_seed\": eval_seed,\n",
        "\n",
        "    \"learning_rate\": learning_rate,\n",
        "    \"gamma\": gamma,\n",
        "\n",
        "    \"epsilon\": epsilon,\n",
        "    \"max_epsilon\": max_epsilon,\n",
        "    \"min_epsilon\": min_epsilon,\n",
        "    \"decay_rate\": decay_rate,\n",
        "\n",
        "    \"qtable\": Qtable_frozenlake\n",
        "}"
      ],
      "metadata": {
        "id": "xYOa16YtGgCn"
      },
      "execution_count": 54,
      "outputs": []
    },
    {
      "cell_type": "code",
      "source": [
        "model"
      ],
      "metadata": {
        "colab": {
          "base_uri": "https://localhost:8080/"
        },
        "id": "C94lcHgHHTy3",
        "outputId": "016e0bdc-8c18-40f1-e488-88d37b24531d"
      },
      "execution_count": 55,
      "outputs": [
        {
          "output_type": "execute_result",
          "data": {
            "text/plain": [
              "{'decay_rate': 0.0005,\n",
              " 'env_id': 'FrozenLake-v1',\n",
              " 'epsilon': 1.0,\n",
              " 'eval_seed': [],\n",
              " 'gamma': 0.95,\n",
              " 'learning_rate': 0.7,\n",
              " 'max_epsilon': 1.0,\n",
              " 'max_steps': 99,\n",
              " 'min_epsilon': 0.05,\n",
              " 'n_eval_episodes': 100,\n",
              " 'n_training_episodes': 10000,\n",
              " 'qtable': array([[0.2054428 , 0.18066286, 0.09083494, 0.09544708],\n",
              "        [0.01026733, 0.03405225, 0.03828749, 0.17480514],\n",
              "        [0.02725234, 0.03401946, 0.03285954, 0.03826465],\n",
              "        [0.00476392, 0.01151476, 0.02072448, 0.03553287],\n",
              "        [0.20685733, 0.20099057, 0.06459205, 0.19402923],\n",
              "        [0.        , 0.        , 0.        , 0.        ],\n",
              "        [0.00283237, 0.00289482, 0.00426329, 0.00255693],\n",
              "        [0.        , 0.        , 0.        , 0.        ],\n",
              "        [0.06973753, 0.17168295, 0.11053723, 0.24111151],\n",
              "        [0.02176616, 0.60530222, 0.07435009, 0.04316953],\n",
              "        [0.66724786, 0.02494016, 0.01237747, 0.01727673],\n",
              "        [0.        , 0.        , 0.        , 0.        ],\n",
              "        [0.        , 0.        , 0.        , 0.        ],\n",
              "        [0.00310105, 0.18592518, 0.90526201, 0.01750653],\n",
              "        [0.48357099, 0.99345543, 0.53629958, 0.78851211],\n",
              "        [0.        , 0.        , 0.        , 0.        ]])}"
            ]
          },
          "metadata": {},
          "execution_count": 55
        }
      ]
    },
    {
      "cell_type": "code",
      "source": [
        "username = \"iiShreya\" \n",
        "repo_name = \"frozenLake_4x4_nonSlippery\"\n",
        "push_to_hub(\n",
        "    repo_id=f\"{username}/{repo_name}\",\n",
        "    model=model,\n",
        "    env=env)"
      ],
      "metadata": {
        "colab": {
          "base_uri": "https://localhost:8080/",
          "height": 416,
          "referenced_widgets": [
            "df254831a00049cc8b8c97d96119b866",
            "832e8ae752324560a75db039a6c1b13c",
            "eafe8da36f854f6b8c5b35c2a0e8aa29",
            "c2c057d13507499fa6e4655eb54e5162",
            "79e20ef95c3a467d8e6a0c94dcd41652",
            "d1f45de1c1b54589be8db1cf3b52f72b",
            "67802f9cc2634c8585b76b12228137f8",
            "aaadc318d49f4a8383e98ae8084cef2e",
            "f1dabff1f2874f318bbc29df290a2e25",
            "bac2ae0af3e44fb28128fd2095d4326e",
            "ef70521450624f45aa523abc2eae70c5"
          ]
        },
        "id": "Ybm_TvwUHT-h",
        "outputId": "edb2da72-b4ee-479f-e92b-3f63036db676"
      },
      "execution_count": 56,
      "outputs": [
        {
          "output_type": "stream",
          "name": "stdout",
          "text": [
            "{'env_id': 'FrozenLake-v1', 'max_steps': 99, 'n_training_episodes': 10000, 'n_eval_episodes': 100, 'eval_seed': [], 'learning_rate': 0.7, 'gamma': 0.95, 'epsilon': 1.0, 'max_epsilon': 1.0, 'min_epsilon': 0.05, 'decay_rate': 0.0005, 'qtable': array([[0.2054428 , 0.18066286, 0.09083494, 0.09544708],\n",
            "       [0.01026733, 0.03405225, 0.03828749, 0.17480514],\n",
            "       [0.02725234, 0.03401946, 0.03285954, 0.03826465],\n",
            "       [0.00476392, 0.01151476, 0.02072448, 0.03553287],\n",
            "       [0.20685733, 0.20099057, 0.06459205, 0.19402923],\n",
            "       [0.        , 0.        , 0.        , 0.        ],\n",
            "       [0.00283237, 0.00289482, 0.00426329, 0.00255693],\n",
            "       [0.        , 0.        , 0.        , 0.        ],\n",
            "       [0.06973753, 0.17168295, 0.11053723, 0.24111151],\n",
            "       [0.02176616, 0.60530222, 0.07435009, 0.04316953],\n",
            "       [0.66724786, 0.02494016, 0.01237747, 0.01727673],\n",
            "       [0.        , 0.        , 0.        , 0.        ],\n",
            "       [0.        , 0.        , 0.        , 0.        ],\n",
            "       [0.00310105, 0.18592518, 0.90526201, 0.01750653],\n",
            "       [0.48357099, 0.99345543, 0.53629958, 0.78851211],\n",
            "       [0.        , 0.        , 0.        , 0.        ]]), 'map_name': '4x4'}\n",
            "Pushing repo frozenLake_4x4_nonSlippery to the Hugging Face Hub\n"
          ]
        },
        {
          "output_type": "stream",
          "name": "stderr",
          "text": [
            "/usr/local/lib/python3.7/dist-packages/imageio/plugins/ffmpeg.py:727: DeprecationWarning: tostring() is deprecated. Use tobytes() instead.\n",
            "  self._proc.stdin.write(im.tostring())\n"
          ]
        },
        {
          "output_type": "display_data",
          "data": {
            "text/plain": [
              "Upload file replay.mp4:  11%|#         | 3.34k/31.7k [00:00<?, ?B/s]"
            ],
            "application/vnd.jupyter.widget-view+json": {
              "version_major": 2,
              "version_minor": 0,
              "model_id": "df254831a00049cc8b8c97d96119b866"
            }
          },
          "metadata": {}
        },
        {
          "output_type": "stream",
          "name": "stdout",
          "text": [
            "The is pushed to the hub. It can viewed here: https://huggingface.co/iiShreya/frozenLake_4x4_nonSlippery\n"
          ]
        }
      ]
    },
    {
      "cell_type": "code",
      "source": [
        ""
      ],
      "metadata": {
        "id": "jeT6FPnkHilp"
      },
      "execution_count": 28,
      "outputs": []
    }
  ]
}